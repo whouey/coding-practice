{
 "cells": [
  {
   "cell_type": "code",
   "execution_count": 33,
   "metadata": {},
   "outputs": [],
   "source": [
    "s = \"ccc\"\n",
    "\n",
    "expected = \"ccc\""
   ]
  },
  {
   "cell_type": "code",
   "execution_count": 36,
   "metadata": {},
   "outputs": [],
   "source": [
    "# @ solution1\n",
    "answer = \"\"\n",
    "\n",
    "length = len(s)\n",
    "i = 0\n",
    "\n",
    "while i < length:\n",
    "    left = i\n",
    "    right = i\n",
    "\n",
    "    while right+1 < length and s[right+1] == s[left]:\n",
    "        right += 1\n",
    "    \n",
    "    while left >= 0 and right < length:\n",
    "\n",
    "        if s[left] == s[right]:\n",
    "            longest = s[left:right+1]\n",
    "        else:\n",
    "            break\n",
    "        \n",
    "        left -= 1\n",
    "        right += 1\n",
    "    \n",
    "    answer = longest if len(longest) > len(answer) else answer\n",
    "\n",
    "    i += 1"
   ]
  },
  {
   "cell_type": "code",
   "execution_count": null,
   "metadata": {},
   "outputs": [],
   "source": [
    "# @ solution2\n",
    "answer = \"\"\n",
    "\n",
    "length = len(s)\n",
    "i = 0\n",
    "\n",
    "while i < length:\n",
    "    left = i\n",
    "    right = i\n",
    "\n",
    "    while right+1 < length and s[right+1] == s[left]:\n",
    "        right += 1\n",
    "        i += 1\n",
    "    \n",
    "    while left >= 0 and right < length:\n",
    "\n",
    "        if s[left] == s[right]:\n",
    "            longest = s[left:right+1]\n",
    "        else:\n",
    "            break\n",
    "        \n",
    "        left -= 1\n",
    "        right += 1\n",
    "    \n",
    "    answer = longest if len(longest) > len(answer) else answer\n",
    "\n",
    "    i += 1"
   ]
  },
  {
   "cell_type": "code",
   "execution_count": null,
   "metadata": {},
   "outputs": [],
   "source": []
  },
  {
   "cell_type": "code",
   "execution_count": 37,
   "metadata": {},
   "outputs": [
    {
     "data": {
      "text/plain": [
       "'cbbc'"
      ]
     },
     "execution_count": 37,
     "metadata": {},
     "output_type": "execute_result"
    }
   ],
   "source": [
    "answer"
   ]
  },
  {
   "cell_type": "code",
   "execution_count": null,
   "metadata": {},
   "outputs": [],
   "source": []
  }
 ],
 "metadata": {
  "interpreter": {
   "hash": "2b5dcf37515a61e4a5e0ad141874077b96da94cdd58be032e443e1d7ce29e726"
  },
  "kernelspec": {
   "display_name": "Python 3.10.2 ('venv': venv)",
   "language": "python",
   "name": "python3"
  },
  "language_info": {
   "codemirror_mode": {
    "name": "ipython",
    "version": 3
   },
   "file_extension": ".py",
   "mimetype": "text/x-python",
   "name": "python",
   "nbconvert_exporter": "python",
   "pygments_lexer": "ipython3",
   "version": "3.10.2"
  },
  "orig_nbformat": 4
 },
 "nbformat": 4,
 "nbformat_minor": 2
}
