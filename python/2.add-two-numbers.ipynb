{
 "cells": [
  {
   "cell_type": "code",
   "execution_count": 8,
   "metadata": {},
   "outputs": [],
   "source": [
    "class ListNode:\n",
    "    def __init__(self, val=0, next=None):\n",
    "        self.val = val\n",
    "        self.next = next"
   ]
  },
  {
   "cell_type": "code",
   "execution_count": 9,
   "metadata": {},
   "outputs": [],
   "source": [
    "def list_to_ListNode(l):\n",
    "    head = None\n",
    "    cur = None\n",
    "    for i in range(len(l)):\n",
    "        node = ListNode(l[i])\n",
    "\n",
    "        if not head:\n",
    "            head = node\n",
    "\n",
    "        if not cur:\n",
    "            cur = node\n",
    "        else:\n",
    "            cur.next = node\n",
    "            cur = node\n",
    "    \n",
    "    return head\n",
    "\n",
    "def ListNode_to_list(listnode):\n",
    "    l = []\n",
    "    cur = listnode\n",
    "    while cur:\n",
    "        l.append(cur.val)\n",
    "        cur = cur.next\n",
    "    return l"
   ]
  },
  {
   "cell_type": "code",
   "execution_count": 15,
   "metadata": {},
   "outputs": [],
   "source": [
    "#test case\n",
    "l1 = list_to_ListNode([2,4,3])\n",
    "l2 = list_to_ListNode([5,6,4])\n",
    "\n",
    "expected = [7,0,8]"
   ]
  },
  {
   "cell_type": "code",
   "execution_count": 11,
   "metadata": {},
   "outputs": [],
   "source": [
    "# @ solution1\n",
    "answer = None\n",
    "cur = None\n",
    "carry = 0\n",
    "\n",
    "while l1 or l2 or carry:\n",
    "    num1 = l1.val if l1 else 0\n",
    "    num2 = l2.val if l2 else 0\n",
    "\n",
    "    sum = num1 + num2 + carry\n",
    "\n",
    "    node = ListNode(val = sum % 10)\n",
    "    carry = sum // 10\n",
    "\n",
    "    if not answer:\n",
    "        answer = node\n",
    "    \n",
    "    if not cur:\n",
    "        cur = node\n",
    "    else:\n",
    "        cur.next = node\n",
    "        cur = node\n",
    "\n",
    "    l1 = l1.next if l1 else None\n",
    "    l2 = l2.next if l2 else None\n",
    "\n",
    "answer = answer  # @ return=answer"
   ]
  },
  {
   "cell_type": "code",
   "execution_count": 16,
   "metadata": {},
   "outputs": [],
   "source": [
    "# @ solution2\n",
    "answer = ListNode()\n",
    "tail = answer\n",
    "carry = 0\n",
    "\n",
    "while l1 or l2 or carry:\n",
    "    num1 = l1.val if l1 else 0\n",
    "    num2 = l2.val if l2 else 0\n",
    "\n",
    "    carry, out = divmod(num1 + num2 + carry, 10)\n",
    "\n",
    "    tail.next = ListNode(out)\n",
    "    tail = tail.next\n",
    "\n",
    "    l1 = l1.next if l1 else None\n",
    "    l2 = l2.next if l2 else None\n",
    "\n",
    "answer = answer.next  # @ return=answer\n"
   ]
  },
  {
   "cell_type": "code",
   "execution_count": 17,
   "metadata": {},
   "outputs": [
    {
     "data": {
      "text/plain": [
       "[7, 0, 8]"
      ]
     },
     "execution_count": 17,
     "metadata": {},
     "output_type": "execute_result"
    }
   ],
   "source": [
    "ListNode_to_list(answer)"
   ]
  },
  {
   "cell_type": "code",
   "execution_count": null,
   "metadata": {},
   "outputs": [],
   "source": []
  }
 ],
 "metadata": {
  "interpreter": {
   "hash": "2b5dcf37515a61e4a5e0ad141874077b96da94cdd58be032e443e1d7ce29e726"
  },
  "kernelspec": {
   "display_name": "Python 3.10.2 ('venv': venv)",
   "language": "python",
   "name": "python3"
  },
  "language_info": {
   "codemirror_mode": {
    "name": "ipython",
    "version": 3
   },
   "file_extension": ".py",
   "mimetype": "text/x-python",
   "name": "python",
   "nbconvert_exporter": "python",
   "pygments_lexer": "ipython3",
   "version": "3.10.2"
  },
  "orig_nbformat": 4
 },
 "nbformat": 4,
 "nbformat_minor": 2
}
