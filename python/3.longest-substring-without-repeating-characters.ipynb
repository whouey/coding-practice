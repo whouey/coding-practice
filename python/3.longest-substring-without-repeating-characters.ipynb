{
 "cells": [
  {
   "cell_type": "code",
   "execution_count": null,
   "metadata": {},
   "outputs": [],
   "source": [
    "#test case\n",
    "s = \"pwwkew\"\n",
    "\n",
    "expected = 3"
   ]
  },
  {
   "cell_type": "code",
   "execution_count": null,
   "metadata": {},
   "outputs": [],
   "source": [
    "# @ solution1\n",
    "answer = 0\n",
    "start = 0\n",
    "cur = 0\n",
    "\n",
    "length = len(s)\n",
    "\n",
    "while cur < length:\n",
    "    if s[cur] in s[start:cur]:\n",
    "        start += 1\n",
    "        cur = start + 1\n",
    "    else:\n",
    "        l = cur - start + 1\n",
    "        answer = l if l > answer else answer\n",
    "        cur += 1"
   ]
  },
  {
   "cell_type": "code",
   "execution_count": null,
   "metadata": {},
   "outputs": [],
   "source": [
    "# @ solution2\n",
    "answer = 0\n",
    "start = 0\n",
    "cur = 0\n",
    "\n",
    "length = len(s)\n",
    "\n",
    "while cur < length:\n",
    "    if s[cur] in s[start:cur]:\n",
    "        start += 1\n",
    "    else:\n",
    "        l = cur - start + 1\n",
    "        answer = l if l > answer else answer\n",
    "        cur += 1"
   ]
  },
  {
   "cell_type": "code",
   "execution_count": null,
   "metadata": {},
   "outputs": [],
   "source": [
    "# @ solution3\n",
    "answer = 0\n",
    "start = 0\n",
    "end = 0\n",
    "\n",
    "length = len(s)\n",
    "hash = set()\n",
    "\n",
    "while end < length:\n",
    "    if s[end] in hash:\n",
    "        hash.remove(s[start])\n",
    "        start += 1\n",
    "    else:\n",
    "        hash.add(s[end])\n",
    "        end += 1\n",
    "        \n",
    "        l = len(hash)\n",
    "        answer = l if l > answer else answer"
   ]
  },
  {
   "cell_type": "code",
   "execution_count": null,
   "metadata": {},
   "outputs": [],
   "source": [
    "# @ solution4\n",
    "answer = 0\n",
    "start = 0\n",
    "end = 0\n",
    "\n",
    "length = len(s)\n",
    "hash = set()\n",
    "\n",
    "while end < length:\n",
    "    if s[end] in hash:\n",
    "        hash.remove(s[start])\n",
    "        start += 1\n",
    "    else:\n",
    "        hash.add(s[end])\n",
    "        end += 1\n",
    "        \n",
    "        l = end - start\n",
    "        answer = l if l > answer else answer"
   ]
  },
  {
   "cell_type": "code",
   "execution_count": null,
   "metadata": {},
   "outputs": [],
   "source": [
    "answer"
   ]
  },
  {
   "cell_type": "code",
   "execution_count": null,
   "metadata": {},
   "outputs": [],
   "source": []
  }
 ],
 "metadata": {
  "interpreter": {
   "hash": "2b5dcf37515a61e4a5e0ad141874077b96da94cdd58be032e443e1d7ce29e726"
  },
  "kernelspec": {
   "display_name": "Python 3.10.2 ('venv': venv)",
   "language": "python",
   "name": "python3"
  },
  "language_info": {
   "codemirror_mode": {
    "name": "ipython",
    "version": 3
   },
   "file_extension": ".py",
   "mimetype": "text/x-python",
   "name": "python",
   "nbconvert_exporter": "python",
   "pygments_lexer": "ipython3",
   "version": "3.10.2"
  },
  "orig_nbformat": 4
 },
 "nbformat": 4,
 "nbformat_minor": 2
}
