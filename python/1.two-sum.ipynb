{
 "cells": [
  {
   "cell_type": "code",
   "execution_count": 24,
   "metadata": {},
   "outputs": [],
   "source": [
    "import IPython, os, json\n",
    "from typing import *"
   ]
  },
  {
   "cell_type": "code",
   "execution_count": 7,
   "metadata": {},
   "outputs": [
    {
     "data": {
      "text/plain": [
       "'d:\\\\Drives\\\\OneDrive\\\\文件\\\\project\\\\coding-practice\\\\python\\\\1.two-sum.ipynb'"
      ]
     },
     "execution_count": 7,
     "metadata": {},
     "output_type": "execute_result"
    }
   ],
   "source": [
    "path = IPython.extract_module_locals()[1]['__vsc_ipynb_file__']\n",
    "path"
   ]
  },
  {
   "cell_type": "code",
   "execution_count": 19,
   "metadata": {},
   "outputs": [
    {
     "data": {
      "text/plain": [
       "'1.two-sum'"
      ]
     },
     "execution_count": 19,
     "metadata": {},
     "output_type": "execute_result"
    }
   ],
   "source": [
    "problem_name = os.path.split(os.path.splitext(path)[0])[-1]\n",
    "problem_name"
   ]
  },
  {
   "cell_type": "code",
   "execution_count": 23,
   "metadata": {},
   "outputs": [],
   "source": [
    "with open(f'../test_cases/{problem_name}.json') as f:\n",
    "    test_cases = json.load(f)"
   ]
  },
  {
   "cell_type": "code",
   "execution_count": 45,
   "metadata": {},
   "outputs": [],
   "source": [
    "def twoSum(nums: List[int], target: int) -> List[int]:\n",
    "    for idx, num in enumerate(nums):\n",
    "        diff = target-num\n",
    "        for i in range(idx+1, len(nums)):\n",
    "            if nums[i]==diff:\n",
    "                return [idx, i]"
   ]
  },
  {
   "cell_type": "code",
   "execution_count": 46,
   "metadata": {},
   "outputs": [],
   "source": [
    "def test(func, test_case):\n",
    "    res = func(**test_case['input'])\n",
    "    assert res == test_case['output']\n",
    "\n",
    "def test_all(func, test_cases):\n",
    "    for test_case in test_cases:\n",
    "        test(func, test_case)\n",
    "\n",
    "test_all(twoSum, test_cases)\n"
   ]
  },
  {
   "cell_type": "code",
   "execution_count": null,
   "metadata": {},
   "outputs": [],
   "source": []
  }
 ],
 "metadata": {
  "interpreter": {
   "hash": "2b5dcf37515a61e4a5e0ad141874077b96da94cdd58be032e443e1d7ce29e726"
  },
  "kernelspec": {
   "display_name": "Python 3.10.2 ('venv': venv)",
   "language": "python",
   "name": "python3"
  },
  "language_info": {
   "codemirror_mode": {
    "name": "ipython",
    "version": 3
   },
   "file_extension": ".py",
   "mimetype": "text/x-python",
   "name": "python",
   "nbconvert_exporter": "python",
   "pygments_lexer": "ipython3",
   "version": "3.10.2"
  },
  "orig_nbformat": 4
 },
 "nbformat": 4,
 "nbformat_minor": 2
}
