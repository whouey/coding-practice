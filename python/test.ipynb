{
 "cells": [
  {
   "cell_type": "code",
   "execution_count": 6,
   "metadata": {},
   "outputs": [],
   "source": [
    "import json, sys, re"
   ]
  },
  {
   "cell_type": "code",
   "execution_count": 7,
   "metadata": {},
   "outputs": [],
   "source": [
    "with open('./1.two-sum.ipynb', 'rb') as f:\n",
    "    content = json.loads(f.read().decode(sys.getdefaultencoding()))"
   ]
  },
  {
   "cell_type": "code",
   "execution_count": 9,
   "metadata": {},
   "outputs": [],
   "source": [
    "solutions = [source for source in [cell['source'] for cell in content['cells']] if len(source) > 0 and re.match(r\"# @ solution=.+\", source[0])]"
   ]
  },
  {
   "cell_type": "code",
   "execution_count": 10,
   "metadata": {},
   "outputs": [
    {
     "data": {
      "text/plain": [
       "['# @ solution=1\\n',\n",
       " 'for idx, num in enumerate(nums):\\n',\n",
       " '    for i in range(idx+1, len(nums)):\\n',\n",
       " '        if num+nums[i] == target:\\n',\n",
       " '            answer = [idx, i] # @ return=answer']"
      ]
     },
     "execution_count": 10,
     "metadata": {},
     "output_type": "execute_result"
    }
   ],
   "source": [
    "solutions[0]"
   ]
  },
  {
   "cell_type": "code",
   "execution_count": 31,
   "metadata": {},
   "outputs": [],
   "source": [
    "for idx, line in enumerate(solutions[0]):\n",
    "    match = re.search(r\"(.*)# @ return=(\\w+).*\", line)\n",
    "    if match:\n",
    "        solutions[0][idx] = re.sub(rf\"{match.group(2)}\\s*=\", \"return\", match.group(1))"
   ]
  },
  {
   "cell_type": "code",
   "execution_count": 32,
   "metadata": {},
   "outputs": [
    {
     "data": {
      "text/plain": [
       "['# @ solution=1\\n',\n",
       " 'for idx, num in enumerate(nums):\\n',\n",
       " '    for i in range(idx+1, len(nums)):\\n',\n",
       " '        if num+nums[i] == target:\\n',\n",
       " '            return [idx, i] ']"
      ]
     },
     "execution_count": 32,
     "metadata": {},
     "output_type": "execute_result"
    }
   ],
   "source": [
    "solutions[0]"
   ]
  },
  {
   "cell_type": "code",
   "execution_count": null,
   "metadata": {},
   "outputs": [],
   "source": []
  }
 ],
 "metadata": {
  "interpreter": {
   "hash": "2b5dcf37515a61e4a5e0ad141874077b96da94cdd58be032e443e1d7ce29e726"
  },
  "kernelspec": {
   "display_name": "Python 3.10.2 ('venv': venv)",
   "language": "python",
   "name": "python3"
  },
  "language_info": {
   "codemirror_mode": {
    "name": "ipython",
    "version": 3
   },
   "file_extension": ".py",
   "mimetype": "text/x-python",
   "name": "python",
   "nbconvert_exporter": "python",
   "pygments_lexer": "ipython3",
   "version": "3.10.2"
  },
  "orig_nbformat": 4
 },
 "nbformat": 4,
 "nbformat_minor": 2
}
